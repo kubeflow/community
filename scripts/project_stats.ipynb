{
 "cells": [
  {
   "cell_type": "markdown",
   "metadata": {},
   "source": [
    "# Compute Project Stats\n",
    "\n",
    "* This notebook uses the GitHub [GraphQL API](https://developer.github.com/v4/) to compute the number of open and \n",
    "  closed bugs pertaining to Kubeflow GitHub Projects\n",
    "* Results are plotted using [plotly](https://plot.ly)\n",
    "  * Plots are currently published on plot.ly for sharing; they are publicly vieable by anyone\n",
    "  \n",
    "## Setup GitHub\n",
    "\n",
    "* You will need a GitHub personal access token in order to use the GitHub API\n",
    "* See these [instructions](https://help.github.com/articles/creating-a-personal-access-token-for-the-command-line/) for creating a personal access token\n",
    "  * You will need the scopes:\n",
    "    * repo\n",
    "    * read:org    \n",
    "* Set the environment variable `GITHUB_TOKEN` to pass your token to the code\n",
    "\n",
    "## Setup Plot.ly Online\n",
    "\n",
    "* In order to use plot.ly to publish the plot you need to create a plot.ly account and get an API key\n",
    "* Follow plot.ly's [getting started guide](https://plot.ly/python/getting-started/)\n",
    "* Store your API key in `~/.plotly/.credentials `"
   ]
  },
  {
   "cell_type": "code",
   "execution_count": 9,
   "metadata": {},
   "outputs": [],
   "source": [
    "# Use plotly cufflinks to plot data frames\n",
    "# https://plot.ly/ipython-notebooks/cufflinks/\n",
    "# instructions for offline plotting\n",
    "# https://plot.ly/python/getting-started/#initialization-for-offline-plotting\n",
    "#\n",
    "# Follow the instructions for online plotting:\n",
    "# https://plot.ly/python/getting-started/\n",
    "# You will need to setup an account\n",
    "import plotly\n",
    "import plotly.plotly as py\n",
    "import plotly.graph_objs as go\n",
    "import cufflinks as cf\n",
    "from importlib import reload\n"
   ]
  },
  {
   "cell_type": "code",
   "execution_count": 98,
   "metadata": {},
   "outputs": [
    {
     "data": {
      "text/plain": [
       "<module 'project_stats' from '/home/jlewi/git_kubeflow-community/scripts/project_stats.py'>"
      ]
     },
     "execution_count": 98,
     "metadata": {},
     "output_type": "execute_result"
    }
   ],
   "source": [
    "import project_stats\n",
    "reload(project_stats)\n"
   ]
  },
  {
   "cell_type": "code",
   "execution_count": 99,
   "metadata": {},
   "outputs": [],
   "source": [
    "c = project_stats.ProjectStats()\n",
    "c.main()"
   ]
  },
  {
   "cell_type": "code",
   "execution_count": 102,
   "metadata": {},
   "outputs": [
    {
     "data": {
      "text/html": [
       "<iframe id=\"igraph\" scrolling=\"no\" style=\"border:none;\" seamless=\"seamless\" src=\"https://plot.ly/~jlewi/1.embed\" height=\"525px\" width=\"100%\"></iframe>"
      ],
      "text/plain": [
       "<plotly.tools.PlotlyDisplay object>"
      ]
     },
     "execution_count": 102,
     "metadata": {},
     "output_type": "execute_result"
    }
   ],
   "source": [
    "# TODO(jlewi): This is using online ploting and storing the plots in plotly and making them plublicly available.\n",
    "# Is there a way to do offline plotting\n",
    "#\n",
    "# TO \n",
    "c.stats.iplot(kind='scatter', width=5, filename='project-stats', title='0.5.0 Issue Count')"
   ]
  }
 ],
 "metadata": {
  "kernelspec": {
   "display_name": "Python 2",
   "language": "python",
   "name": "python2"
  },
  "language_info": {
   "codemirror_mode": {
    "name": "ipython",
    "version": 3
   },
   "file_extension": ".py",
   "mimetype": "text/x-python",
   "name": "python",
   "nbconvert_exporter": "python",
   "pygments_lexer": "ipython3",
   "version": "3.5.4rc1"
  }
 },
 "nbformat": 4,
 "nbformat_minor": 2
}
